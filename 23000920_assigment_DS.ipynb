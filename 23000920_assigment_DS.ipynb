{
 "cells": [
  {
   "cell_type": "code",
   "execution_count": 1,
   "id": "b6f3cc72-365e-4d51-9f8d-d14d9f487238",
   "metadata": {},
   "outputs": [],
   "source": [
    "import pandas as pd\n",
    "import numpy as np"
   ]
  },
  {
   "cell_type": "code",
   "execution_count": 2,
   "id": "ed5dafb5-d169-4026-ac0c-957c9f7a79dd",
   "metadata": {},
   "outputs": [
    {
     "data": {
      "text/html": [
       "<div>\n",
       "<style scoped>\n",
       "    .dataframe tbody tr th:only-of-type {\n",
       "        vertical-align: middle;\n",
       "    }\n",
       "\n",
       "    .dataframe tbody tr th {\n",
       "        vertical-align: top;\n",
       "    }\n",
       "\n",
       "    .dataframe thead th {\n",
       "        text-align: right;\n",
       "    }\n",
       "</style>\n",
       "<table border=\"1\" class=\"dataframe\">\n",
       "  <thead>\n",
       "    <tr style=\"text-align: right;\">\n",
       "      <th></th>\n",
       "      <th>Year</th>\n",
       "      <th>Quarter</th>\n",
       "      <th>Sales_Online</th>\n",
       "      <th>Sales_In_Store</th>\n",
       "      <th>Expenses_Online</th>\n",
       "      <th>Expenses_In_Store</th>\n",
       "    </tr>\n",
       "  </thead>\n",
       "  <tbody>\n",
       "    <tr>\n",
       "      <th>0</th>\n",
       "      <td>2021</td>\n",
       "      <td>Q1</td>\n",
       "      <td>12000</td>\n",
       "      <td>22000</td>\n",
       "      <td>5000</td>\n",
       "      <td>8000</td>\n",
       "    </tr>\n",
       "    <tr>\n",
       "      <th>1</th>\n",
       "      <td>2021</td>\n",
       "      <td>Q2</td>\n",
       "      <td>15000</td>\n",
       "      <td>24000</td>\n",
       "      <td>5500</td>\n",
       "      <td>8200</td>\n",
       "    </tr>\n",
       "    <tr>\n",
       "      <th>2</th>\n",
       "      <td>2021</td>\n",
       "      <td>Q3</td>\n",
       "      <td>17000</td>\n",
       "      <td>25000</td>\n",
       "      <td>6000</td>\n",
       "      <td>8500</td>\n",
       "    </tr>\n",
       "    <tr>\n",
       "      <th>3</th>\n",
       "      <td>2021</td>\n",
       "      <td>Q4</td>\n",
       "      <td>16000</td>\n",
       "      <td>23000</td>\n",
       "      <td>5800</td>\n",
       "      <td>8100</td>\n",
       "    </tr>\n",
       "    <tr>\n",
       "      <th>4</th>\n",
       "      <td>2022</td>\n",
       "      <td>Q1</td>\n",
       "      <td>18000</td>\n",
       "      <td>26000</td>\n",
       "      <td>6200</td>\n",
       "      <td>8700</td>\n",
       "    </tr>\n",
       "    <tr>\n",
       "      <th>5</th>\n",
       "      <td>2022</td>\n",
       "      <td>Q2</td>\n",
       "      <td>19000</td>\n",
       "      <td>27000</td>\n",
       "      <td>6500</td>\n",
       "      <td>8900</td>\n",
       "    </tr>\n",
       "    <tr>\n",
       "      <th>6</th>\n",
       "      <td>2022</td>\n",
       "      <td>Q3</td>\n",
       "      <td>21000</td>\n",
       "      <td>28000</td>\n",
       "      <td>6700</td>\n",
       "      <td>9200</td>\n",
       "    </tr>\n",
       "    <tr>\n",
       "      <th>7</th>\n",
       "      <td>2022</td>\n",
       "      <td>Q4</td>\n",
       "      <td>20000</td>\n",
       "      <td>29000</td>\n",
       "      <td>6900</td>\n",
       "      <td>9400</td>\n",
       "    </tr>\n",
       "  </tbody>\n",
       "</table>\n",
       "</div>"
      ],
      "text/plain": [
       "   Year Quarter  Sales_Online  Sales_In_Store  Expenses_Online  \\\n",
       "0  2021      Q1         12000           22000             5000   \n",
       "1  2021      Q2         15000           24000             5500   \n",
       "2  2021      Q3         17000           25000             6000   \n",
       "3  2021      Q4         16000           23000             5800   \n",
       "4  2022      Q1         18000           26000             6200   \n",
       "5  2022      Q2         19000           27000             6500   \n",
       "6  2022      Q3         21000           28000             6700   \n",
       "7  2022      Q4         20000           29000             6900   \n",
       "\n",
       "   Expenses_In_Store  \n",
       "0               8000  \n",
       "1               8200  \n",
       "2               8500  \n",
       "3               8100  \n",
       "4               8700  \n",
       "5               8900  \n",
       "6               9200  \n",
       "7               9400  "
      ]
     },
     "execution_count": 2,
     "metadata": {},
     "output_type": "execute_result"
    }
   ],
   "source": [
    "import pandas as pd\n",
    "\n",
    "# Creating a DataFrame for quarterly financial data for 2021 and 2022\n",
    "data = {\n",
    "    'Year': [2021, 2021, 2021, 2021, 2022, 2022, 2022, 2022],\n",
    "    'Quarter': ['Q1', 'Q2', 'Q3', 'Q4', 'Q1', 'Q2', 'Q3', 'Q4'],\n",
    "    'Sales_Online': [12000, 15000, 17000, 16000, 18000, 19000, 21000, 20000],\n",
    "    'Sales_In_Store': [22000, 24000, 25000, 23000, 26000, 27000, 28000, 29000],\n",
    "    'Expenses_Online': [5000, 5500, 6000, 5800, 6200, 6500, 6700, 6900],\n",
    "    'Expenses_In_Store': [8000, 8200, 8500, 8100, 8700, 8900, 9200, 9400]\n",
    "}\n",
    "\n",
    "# Creating the DataFrame\n",
    "financial_data = pd.DataFrame(data)\n",
    "\n",
    "financial_data\n"
   ]
  },
  {
   "cell_type": "code",
   "execution_count": 4,
   "id": "b1b2e4dd-3774-4e3a-9cc5-ac8dadedc6a0",
   "metadata": {},
   "outputs": [
    {
     "data": {
      "text/plain": [
       "4    18000\n",
       "Name: Sales_Online, dtype: int64"
      ]
     },
     "execution_count": 4,
     "metadata": {},
     "output_type": "execute_result"
    }
   ],
   "source": [
    "#Q1\n",
    "#1.1\n",
    "# Extracting Online Sales for Q1 2022?\n",
    "online_sales_q1_2022 = financial_data[(financial_data['Year'] == 2022) & (financial_data['Quarter'] == 'Q1')]['Sales_Online']\n",
    "online_sales_q1_2022"
   ]
  },
  {
   "cell_type": "code",
   "execution_count": 5,
   "id": "4c90bce6-ce28-4fa0-bef9-00fdcd33ed1d",
   "metadata": {},
   "outputs": [
    {
     "data": {
      "text/plain": [
       "2    25000\n",
       "Name: Sales_In_Store, dtype: int64"
      ]
     },
     "execution_count": 5,
     "metadata": {},
     "output_type": "execute_result"
    }
   ],
   "source": [
    "#1.2\n",
    "#How much were the in-store expenses in Q3 2021?\n",
    "in_store_q3_2021 = financial_data[(financial_data['Year'] == 2021) & (financial_data['Quarter'] == 'Q3')]['Sales_In_Store']\n",
    "in_store_q3_2021"
   ]
  },
  {
   "cell_type": "code",
   "execution_count": 9,
   "id": "29bf52c6-3a1c-486f-ac9b-2827a22f5dba",
   "metadata": {},
   "outputs": [
    {
     "data": {
      "text/plain": [
       "3    16000\n",
       "Name: Sales_Online, dtype: int64"
      ]
     },
     "execution_count": 9,
     "metadata": {},
     "output_type": "execute_result"
    }
   ],
   "source": [
    "#1.3\n",
    "#What are the total sales for Q4 2021?\n",
    "Total_sale_q4_2021 = financial_data[(financial_data['Year'] == 2021) & (financial_data['Quarter']== 'Q4')]['Sales_Online']\n",
    "Total_sale_q4_2021"
   ]
  },
  {
   "cell_type": "code",
   "execution_count": 11,
   "id": "bbdfae2f-2206-482c-910a-c81937ffb872",
   "metadata": {},
   "outputs": [
    {
     "data": {
      "text/plain": [
       "4    6200\n",
       "5    6500\n",
       "6    6700\n",
       "7    6900\n",
       "Name: Expenses_Online, dtype: int64"
      ]
     },
     "execution_count": 11,
     "metadata": {},
     "output_type": "execute_result"
    }
   ],
   "source": [
    "#1.4\n",
    "#What were the expenses for the online channel in 2022?\n",
    "Expense_online_20211 = financial_data[(financial_data['Year'] == 2022)]['Expenses_Online']\n",
    "Expense_online_20211"
   ]
  },
  {
   "cell_type": "code",
   "execution_count": 13,
   "id": "05ac86e6-d1af-44a7-a875-a1585a28d02b",
   "metadata": {},
   "outputs": [
    {
     "data": {
      "text/plain": [
       "1    15000\n",
       "Name: Sales_Online, dtype: int64"
      ]
     },
     "execution_count": 13,
     "metadata": {},
     "output_type": "execute_result"
    }
   ],
   "source": [
    "#1.5\n",
    "#Retrieve sales data for Q2 2021?\n",
    "Total_sale_q2_2021 = financial_data[(financial_data['Year'] == 2021) & (financial_data['Quarter']== 'Q2')]['Sales_Online']\n",
    "Total_sale_q2_2021"
   ]
  },
  {
   "cell_type": "code",
   "execution_count": 14,
   "id": "61fd2e80-eef1-4352-b066-10e25d4a0988",
   "metadata": {},
   "outputs": [
    {
     "data": {
      "text/plain": [
       "np.int64(9400)"
      ]
     },
     "execution_count": 14,
     "metadata": {},
     "output_type": "execute_result"
    }
   ],
   "source": [
    "#1.6\n",
    "#What is the maximum expense recorded in 2022?\n",
    "max_expense_2022 = financial_data[financial_data['Year'] == 2022][['Expenses_Online', 'Expenses_In_Store']].max().max()\n",
    "max_expense_2022\n"
   ]
  },
  {
   "cell_type": "code",
   "execution_count": 15,
   "id": "2a1baa79-fef4-49f8-b51b-440ce1e5c176",
   "metadata": {},
   "outputs": [
    {
     "name": "stdout",
     "output_type": "stream",
     "text": [
      "     Store    Product level_2  Values\n",
      "0  Store_A  Product_1   Sales    1000\n",
      "1  Store_A  Product_2   Sales    1500\n",
      "2  Store_B  Product_1   Sales    1100\n",
      "3  Store_B  Product_2   Sales    1600\n"
     ]
    }
   ],
   "source": [
    "#Q2\n",
    "# Stack a DataFrame of Store, Product, and Sales.\n",
    "data = {\n",
    "    'Store': ['Store_A', 'Store_A', 'Store_B', 'Store_B'],\n",
    "    'Product': ['Product_1', 'Product_2', 'Product_1', 'Product_2'],\n",
    "    'Sales': [1000, 1500, 1100, 1600]\n",
    "}\n",
    "df = pd.DataFrame(data)\n",
    "\n",
    "stacked_df = df.set_index(['Store', 'Product']).stack().reset_index(name='Values')\n",
    "\n",
    "print(stacked_df)"
   ]
  },
  {
   "cell_type": "code",
   "execution_count": 16,
   "id": "1733bd37-b1bc-4d39-90ed-dfbc6b3e8594",
   "metadata": {},
   "outputs": [
    {
     "name": "stdout",
     "output_type": "stream",
     "text": [
      "Store      Store_A  Store_B\n",
      "Product                    \n",
      "Product_1     1000     1100\n",
      "Product_2     1500     1600\n"
     ]
    }
   ],
   "source": [
    "#Q3\n",
    "#Unstack it to show sales by store\n",
    "data = {\n",
    "    'Store': ['Store_A', 'Store_A', 'Store_B', 'Store_B'],\n",
    "    'Product': ['Product_1', 'Product_2', 'Product_1', 'Product_2'],\n",
    "    'Sales': [1000, 1500, 1100, 1600]\n",
    "}\n",
    "\n",
    "df = pd.DataFrame(data)\n",
    "\n",
    "unstacked_df = df.set_index(['Product', 'Store'])['Sales'].unstack()\n",
    "\n",
    "print(unstacked_df)\n"
   ]
  },
  {
   "cell_type": "code",
   "execution_count": 17,
   "id": "85ddab10-f099-4e61-b28d-8fc2753fad8d",
   "metadata": {},
   "outputs": [
    {
     "name": "stdout",
     "output_type": "stream",
     "text": [
      "                      Salary\n",
      "Department Role             \n",
      "Sales      Manager     70000\n",
      "           Associate   50000\n",
      "HR         Manager     75000\n",
      "           Associate   52000\n",
      "IT         Manager     90000\n",
      "           Associate   60000\n"
     ]
    }
   ],
   "source": [
    "#Q4\n",
    "#Create a multi-index with Department and Role.\n",
    "\n",
    "data = {\n",
    "    'Department': ['Sales', 'Sales', 'HR', 'HR', 'IT', 'IT'],\n",
    "    'Role': ['Manager', 'Associate', 'Manager', 'Associate', 'Manager', 'Associate'],\n",
    "    'Salary': [70000, 50000, 75000, 52000, 90000, 60000]\n",
    "}\n",
    "\n",
    "df = pd.DataFrame(data)\n",
    "\n",
    "multi_index_df = df.set_index(['Department', 'Role'])\n",
    "\n",
    "print(multi_index_df)\n"
   ]
  },
  {
   "cell_type": "code",
   "execution_count": 18,
   "id": "be708677-ad95-4229-9f37-eea8171f2895",
   "metadata": {},
   "outputs": [
    {
     "name": "stdout",
     "output_type": "stream",
     "text": [
      "           Salary\n",
      "Role             \n",
      "Manager     70000\n",
      "Associate   50000\n"
     ]
    }
   ],
   "source": [
    "#Q5\n",
    "#Access employees from a specific department.\n",
    "sales_employees = multi_index_df.loc['Sales']\n",
    "print(sales_employees)\n"
   ]
  },
  {
   "cell_type": "code",
   "execution_count": 23,
   "id": "a9f1991e-d9b0-4e5b-8973-5c7b015cdd04",
   "metadata": {},
   "outputs": [
    {
     "name": "stdout",
     "output_type": "stream",
     "text": [
      "   Student  Subject  Grade\n",
      "2  Charlie     Math     75\n",
      "0    Alice     Math     88\n",
      "4      Eve     Math     95\n",
      "3    David  Science     85\n",
      "1      Bob  Science     92\n"
     ]
    }
   ],
   "source": [
    "#Q6\n",
    "# Sort a DataFrame of student grades by Subject and Grade\n",
    "import pandas as pd\n",
    "\n",
    "data = {\n",
    "    'Student': ['Alice', 'Bob', 'Charlie', 'David', 'Eve'],\n",
    "    'Subject': ['Math', 'Science', 'Math', 'Science', 'Math'],\n",
    "    'Grade': [88, 92, 75, 85, 95]\n",
    "}\n",
    "\n",
    "df = pd.DataFrame(data)\n",
    "\n",
    "sorted_df = df.sort_values(by=['Subject', 'Grade'])\n",
    "ascending=[True]\n",
    "\n",
    "print(sorted_df)\n"
   ]
  },
  {
   "cell_type": "code",
   "execution_count": 20,
   "id": "c942e6af-aabb-407f-8d3c-78153221b97a",
   "metadata": {},
   "outputs": [
    {
     "name": "stdout",
     "output_type": "stream",
     "text": [
      "   Student  Subject  Grade\n",
      "0  Charlie     Math     75\n",
      "1    Alice     Math     88\n",
      "2      Eve     Math     95\n",
      "3    David  Science     85\n",
      "4      Bob  Science     92\n"
     ]
    }
   ],
   "source": [
    "#Q7\n",
    "# Resetting the index of the sorted DataFrame\n",
    "sorted_df = sorted_df.reset_index(drop=True)\n",
    "print(sorted_df)"
   ]
  },
  {
   "cell_type": "code",
   "execution_count": 24,
   "id": "0a2e96c6-f309-44b1-ade0-412b246c51c1",
   "metadata": {},
   "outputs": [
    {
     "name": "stdout",
     "output_type": "stream",
     "text": [
      "            Temperature  Humidity\n",
      "Date                             \n",
      "2023-01-01           30        85\n",
      "2023-01-02           32        80\n",
      "2023-01-03           31        78\n",
      "2023-01-04           29        90\n"
     ]
    }
   ],
   "source": [
    "#Q8\n",
    "#\n",
    "import pandas as pd\n",
    "\n",
    "data = {\n",
    "    'Date': ['2023-01-01', '2023-01-02', '2023-01-03', '2023-01-04'],\n",
    "    'Temperature': [30, 32, 31, 29],\n",
    "    'Humidity': [85, 80, 78, 90]\n",
    "}\n",
    "\n",
    "weather_df = pd.DataFrame(data)\n",
    "\n",
    "# Converting 'Date' column to datetime format\n",
    "weather_df['Date'] = pd.to_datetime(weather_df['Date'])\n",
    "\n",
    "# Setting 'Date' as the index\n",
    "weather_df = weather_df.set_index('Date')\n",
    "\n",
    "print(weather_df)\n"
   ]
  },
  {
   "cell_type": "code",
   "execution_count": 25,
   "id": "32e743f7-dbff-45ea-8888-dab63dfd5ab2",
   "metadata": {},
   "outputs": [
    {
     "name": "stdout",
     "output_type": "stream",
     "text": [
      "     Store    Product  Sales\n",
      "0  Store_A  Product_1   1000\n",
      "1  Store_A  Product_2   1500\n",
      "2  Store_B  Product_1   1100\n",
      "3  Store_B  Product_2   1600\n"
     ]
    }
   ],
   "source": [
    "#Q9\n",
    "#\n",
    "data = {\n",
    "    'Sales': [1000, 1500, 1100, 1600]\n",
    "}\n",
    "index = pd.MultiIndex.from_tuples(\n",
    "    [('Store_A', 'Product_1'), ('Store_A', 'Product_2'),\n",
    "     ('Store_B', 'Product_1'), ('Store_B', 'Product_2')],\n",
    "    names=['Store', 'Product']\n",
    ")\n",
    "\n",
    "# Creating the DataFrame with a multi-index\n",
    "multi_index_df = pd.DataFrame(data, index=index)\n",
    "\n",
    "# Flattening the multi-index\n",
    "flattened_df = multi_index_df.reset_index()\n",
    "\n",
    "print(flattened_df)\n"
   ]
  },
  {
   "cell_type": "code",
   "execution_count": 26,
   "id": "69e65ba1-bef1-41d1-a16d-2496497a35d2",
   "metadata": {},
   "outputs": [
    {
     "name": "stdout",
     "output_type": "stream",
     "text": [
      "Multi-index DataFrame:\n",
      "                      Sales\n",
      "Category    Product       \n",
      "Electronics Laptop    1200\n",
      "            Tablet     800\n",
      "Furniture   Chair      450\n",
      "            Table      700\n",
      "Clothing    Shirt      300\n",
      "            Pants      200\n",
      "\n",
      "Average Sales by Category:\n",
      "               Sales\n",
      "Category           \n",
      "Clothing      250.0\n",
      "Electronics  1000.0\n",
      "Furniture     575.0\n"
     ]
    }
   ],
   "source": [
    "#Q10\n",
    "#\n",
    "data = {\n",
    "    'Category': ['Electronics', 'Electronics', 'Furniture', 'Furniture', 'Clothing', 'Clothing'],\n",
    "    'Product': ['Laptop', 'Tablet', 'Chair', 'Table', 'Shirt', 'Pants'],\n",
    "    'Sales': [1200, 800, 450, 700, 300, 200]\n",
    "}\n",
    "\n",
    "df = pd.DataFrame(data)\n",
    "\n",
    "# Setting a multi-index with Category and Product\n",
    "multi_index_df = df.set_index(['Category', 'Product'])\n",
    "\n",
    "# Averaging the Sales at each Category level\n",
    "average_sales_by_category = multi_index_df.groupby(level='Category').mean()\n",
    "\n",
    "print(\"Multi-index DataFrame:\\n\", multi_index_df)\n",
    "print(\"\\nAverage Sales by Category:\\n\", average_sales_by_category)\n"
   ]
  },
  {
   "cell_type": "code",
   "execution_count": null,
   "id": "094bca2d-f07d-48d8-81dd-36d0606350b2",
   "metadata": {},
   "outputs": [],
   "source": []
  }
 ],
 "metadata": {
  "kernelspec": {
   "display_name": "Python 3 (ipykernel)",
   "language": "python",
   "name": "python3"
  },
  "language_info": {
   "codemirror_mode": {
    "name": "ipython",
    "version": 3
   },
   "file_extension": ".py",
   "mimetype": "text/x-python",
   "name": "python",
   "nbconvert_exporter": "python",
   "pygments_lexer": "ipython3",
   "version": "3.12.3"
  }
 },
 "nbformat": 4,
 "nbformat_minor": 5
}
